{
  "nbformat": 4,
  "nbformat_minor": 0,
  "metadata": {
    "colab": {
      "provenance": [],
      "authorship_tag": "ABX9TyOUIQix6fPwR9uAK6VfFPGu",
      "include_colab_link": true
    },
    "kernelspec": {
      "name": "python3",
      "display_name": "Python 3"
    },
    "language_info": {
      "name": "python"
    }
  },
  "cells": [
    {
      "cell_type": "markdown",
      "metadata": {
        "id": "view-in-github",
        "colab_type": "text"
      },
      "source": [
        "<a href=\"https://colab.research.google.com/github/Avinashjadon2002/coder_avi/blob/main/Untitled14.ipynb\" target=\"_parent\"><img src=\"https://colab.research.google.com/assets/colab-badge.svg\" alt=\"Open In Colab\"/></a>"
      ]
    },
    {
      "cell_type": "code",
      "execution_count": 4,
      "metadata": {
        "colab": {
          "base_uri": "https://localhost:8080/",
          "height": 427
        },
        "id": "6De9RZoEySNF",
        "outputId": "88a4cfd1-15c4-4568-aaa3-2c053cf13bdc"
      },
      "outputs": [
        {
          "output_type": "stream",
          "name": "stdout",
          "text": [
            "enter your feedback: my mobile is stolen\n",
            "i analysis your expersion & and your sentiment are :\n",
            "\n",
            "Sentiment score: -0.4939\n",
            "Emoji expression: 🙁\n",
            "Sentiment:  little Negative\n",
            "Scores:  {'neg': 0.516, 'neu': 0.484, 'pos': 0.0, 'compound': -0.4939}\n"
          ]
        },
        {
          "output_type": "stream",
          "name": "stderr",
          "text": [
            "[nltk_data] Downloading package vader_lexicon to /root/nltk_data...\n",
            "[nltk_data]   Package vader_lexicon is already up-to-date!\n"
          ]
        },
        {
          "output_type": "display_data",
          "data": {
            "text/plain": [
              "<PIL.PngImagePlugin.PngImageFile image mode=P size=225x225 at 0x7FCC8DB06410>"
            ],
            "image/png": "[encoded data removed]"
          },
          "metadata": {}
        },
        {
          "output_type": "stream",
          "name": "stdout",
          "text": [
            "oh,this very bad happen with you\n"
          ]
        }
      ],
      "source": [
        "import nltk\n",
        "from nltk.sentiment import SentimentIntensityAnalyzer\n",
        "import emoji\n",
        "import cv2\n",
        "from PIL import Image\n",
        "\n",
        "# img1 = cv2.imread(\"/content/smiling_face_with_smiling_eyes.jpg\")\n",
        "# img2 = cv2.imread(\"/content/slightly_smiling_face.jpg\")\n",
        "# img3 = cv2.imread(\"/content/slightly_frowning_face.png\")\n",
        "# img4 = cv2.imread(\"/content/neutral_face.png\")\n",
        "# img5 = cv2.imread(\"/content/face_with_rolling_eyes.jpg\")\n",
        "\n",
        "\n",
        "text = input(\"enter your feedback: \")\n",
        "\n",
        "print(\"i analysis your expersion & and your sentiment are :\\n\")\n",
        "\n",
        "# Download necessary NLTK data\n",
        "nltk.download('vader_lexicon')\n",
        "\n",
        "# Create an instance of the sentiment analyzer\n",
        "sia = SentimentIntensityAnalyzer()\n",
        "\n",
        "def get_sentiment_score(text):\n",
        "    \"\"\"\n",
        "    Get the sentiment score of the text using VADER sentiment analysis.\n",
        "    \"\"\"\n",
        "    sentiment = sia.polarity_scores(text)\n",
        "    return sentiment['compound']\n",
        "\n",
        "def get_sentiment_emoji(score):\n",
        "    \"\"\"\n",
        "    Get an emoji expression based on the sentiment score.\n",
        "    \"\"\"\n",
        "    if score >= 0.5:\n",
        "        return emoji.emojize(\":smiling_face_with_smiling_eyes:\")\n",
        "    elif score >= 0.1:\n",
        "        return emoji.emojize(\":slightly_smiling_face:\")\n",
        "    elif score <= -0.5:\n",
        "        return emoji.emojize(\":face_with_rolling_eyes:\")\n",
        "    elif score <= -0.1:\n",
        "        return emoji.emojize(\":slightly_frowning_face:\")\n",
        "    else:\n",
        "        return emoji.emojize(\":neutral_face:\")\n",
        "\n",
        "\n",
        "\n",
        "def analyze_sentiment(text):\n",
        "    # Get the sentiment scores for the text\n",
        "    scores = sia.polarity_scores(text)\n",
        "    \n",
        "    # Interpret the sentiment scores\n",
        "    if scores['compound'] >= 0.5:\n",
        "        sentiment = 'Positive'\n",
        "    elif scores['compound'] >= 0.1:\n",
        "        sentiment = 'little positive'\n",
        "    elif scores['compound'] <= -0.5:\n",
        "        sentiment = 'Negative'\n",
        "    elif scores['compound'] <= -0.1:\n",
        "        sentiment = 'little Negative'\n",
        "    else:\n",
        "        sentiment = 'Neutral'\n",
        "    \n",
        "    # Return the sentiment and scores\n",
        "    return sentiment, scores\n",
        "\n",
        "def display_image(condition):\n",
        "    if score >= 0.5:\n",
        "        # Load and display the image\n",
        "        image = Image.open(\"/content/smiling_face_with_smiling_eyes.jpg\")\n",
        "        image.show()\n",
        "    elif score >= 0.1:\n",
        "      image = Image.open(\"/content/slightly_smiling_face.jpg\")\n",
        "      image.show()\n",
        "    elif score <= -0.5:\n",
        "      image = Image.open(\"/content/face_with_rolling_eyes.jpg\")\n",
        "      image.show()\n",
        "    elif score <= -0.1:\n",
        "      image = Image.open(\"/content/slightly_frowning_face.png\")\n",
        "      image.show()\n",
        "    else:\n",
        "      image = Image.open(\"/content/neutral_face.png\")\n",
        "      image.show()\n",
        "\n",
        "# def expression_show(score):\n",
        "\n",
        "#   if score >= 0.5:\n",
        "#     return cv2.imshow(\"image\", img1)\n",
        "#   elif score >= 0.1:\n",
        "#     return cv2.imshow(\"image\", img2)\n",
        "#   elif score <= -0.5:\n",
        "#     return cv2.imshow(\"image\", img3)\n",
        "#   elif score <= -0.1:\n",
        "#     return cv2.imshow(\"image\", img4)\n",
        "#   else:\n",
        "#     return cv2.imshow(\"image\", img5)\n",
        "def print_text(condition):\n",
        "    \n",
        "    if score >= 0.5:\n",
        "        print(\"wow you are nice \")\n",
        "    elif score >= 0.1:\n",
        "        print(\"you are good,please take care of you\")\n",
        "    elif score <= -0.5:\n",
        "        print(\"i am sad for you\")\n",
        "    elif score <= -0.1:\n",
        "        print(\"oh,this very bad happen with you\")\n",
        "    else:\n",
        "        print(\"nice to meet you\")\n",
        "  \n",
        "\n",
        "\n",
        "\n",
        "\n",
        "# Test the sentiment analysis and emoji expression\n",
        "\n",
        "score = get_sentiment_score(text)\n",
        "emoji_expression = get_sentiment_emoji(score)\n",
        "sentiment, scores = analyze_sentiment(text)\n",
        "# expression = expression_show(score)\n",
        "\n",
        "print(f\"Sentiment score: {score}\")\n",
        "print(f\"Emoji expression: {emoji_expression}\")\n",
        "print(\"Sentiment: \", sentiment)\n",
        "print(\"Scores: \", scores)\n",
        "# print(f\"experssion, {expression}\")\n",
        "display_image(True)\n",
        "print_text(True)"
      ]
    }
  ]
}